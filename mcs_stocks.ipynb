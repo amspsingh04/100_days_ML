{
 "cells": [
  {
   "cell_type": "code",
   "execution_count": 1,
   "id": "ebd41a15",
   "metadata": {
    "_cell_guid": "b1076dfc-b9ad-4769-8c92-a6c4dae69d19",
    "_uuid": "8f2839f25d086af736a60e9eeb907d3b93b6e0e5",
    "execution": {
     "iopub.execute_input": "2023-11-05T21:02:12.659863Z",
     "iopub.status.busy": "2023-11-05T21:02:12.659476Z",
     "iopub.status.idle": "2023-11-05T21:02:15.062692Z",
     "shell.execute_reply": "2023-11-05T21:02:15.061597Z"
    },
    "papermill": {
     "duration": 2.41605,
     "end_time": "2023-11-05T21:02:15.065274",
     "exception": false,
     "start_time": "2023-11-05T21:02:12.649224",
     "status": "completed"
    },
    "tags": []
   },
   "outputs": [],
   "source": [
    "import pandas as pd\n",
    "import numpy as np\n",
    "import seaborn as sns\n",
    "sns.set_style('whitegrid')"
   ]
  },
  {
   "cell_type": "code",
   "execution_count": 2,
   "id": "b08fc2f9",
   "metadata": {
    "execution": {
     "iopub.execute_input": "2023-11-05T21:02:15.077249Z",
     "iopub.status.busy": "2023-11-05T21:02:15.076731Z",
     "iopub.status.idle": "2023-11-05T21:02:17.256460Z",
     "shell.execute_reply": "2023-11-05T21:02:17.255085Z"
    },
    "papermill": {
     "duration": 2.188744,
     "end_time": "2023-11-05T21:02:17.259212",
     "exception": false,
     "start_time": "2023-11-05T21:02:15.070468",
     "status": "completed"
    },
    "tags": []
   },
   "outputs": [
    {
     "data": {
      "text/html": [
       "<div>\n",
       "<style scoped>\n",
       "    .dataframe tbody tr th:only-of-type {\n",
       "        vertical-align: middle;\n",
       "    }\n",
       "\n",
       "    .dataframe tbody tr th {\n",
       "        vertical-align: top;\n",
       "    }\n",
       "\n",
       "    .dataframe thead th {\n",
       "        text-align: right;\n",
       "    }\n",
       "</style>\n",
       "<table border=\"1\" class=\"dataframe\">\n",
       "  <thead>\n",
       "    <tr style=\"text-align: right;\">\n",
       "      <th></th>\n",
       "      <th>INSTRUMENT</th>\n",
       "      <th>SYMBOL</th>\n",
       "      <th>EXPIRY_DT</th>\n",
       "      <th>STRIKE_PR</th>\n",
       "      <th>OPTION_TYP</th>\n",
       "      <th>OPEN</th>\n",
       "      <th>HIGH</th>\n",
       "      <th>LOW</th>\n",
       "      <th>CLOSE</th>\n",
       "      <th>SETTLE_PR</th>\n",
       "      <th>CONTRACTS</th>\n",
       "      <th>VAL_INLAKH</th>\n",
       "      <th>OPEN_INT</th>\n",
       "      <th>CHG_IN_OI</th>\n",
       "      <th>TIMESTAMP</th>\n",
       "      <th>Unnamed: 15</th>\n",
       "    </tr>\n",
       "  </thead>\n",
       "  <tbody>\n",
       "    <tr>\n",
       "      <th>0</th>\n",
       "      <td>FUTIDX</td>\n",
       "      <td>BANKNIFTY</td>\n",
       "      <td>24-Sep-2020</td>\n",
       "      <td>0.0</td>\n",
       "      <td>XX</td>\n",
       "      <td>24900.05</td>\n",
       "      <td>25270.00</td>\n",
       "      <td>23371.00</td>\n",
       "      <td>23743.00</td>\n",
       "      <td>23743.00</td>\n",
       "      <td>504222</td>\n",
       "      <td>3051593.27</td>\n",
       "      <td>1432850</td>\n",
       "      <td>-54500</td>\n",
       "      <td>31-AUG-2020</td>\n",
       "      <td>NaN</td>\n",
       "    </tr>\n",
       "    <tr>\n",
       "      <th>1</th>\n",
       "      <td>FUTIDX</td>\n",
       "      <td>BANKNIFTY</td>\n",
       "      <td>29-Oct-2020</td>\n",
       "      <td>0.0</td>\n",
       "      <td>XX</td>\n",
       "      <td>24937.55</td>\n",
       "      <td>25315.90</td>\n",
       "      <td>23391.90</td>\n",
       "      <td>23770.10</td>\n",
       "      <td>23770.10</td>\n",
       "      <td>10630</td>\n",
       "      <td>64526.57</td>\n",
       "      <td>91375</td>\n",
       "      <td>19325</td>\n",
       "      <td>31-AUG-2020</td>\n",
       "      <td>NaN</td>\n",
       "    </tr>\n",
       "    <tr>\n",
       "      <th>2</th>\n",
       "      <td>FUTIDX</td>\n",
       "      <td>BANKNIFTY</td>\n",
       "      <td>26-Nov-2020</td>\n",
       "      <td>0.0</td>\n",
       "      <td>XX</td>\n",
       "      <td>24989.95</td>\n",
       "      <td>25280.75</td>\n",
       "      <td>23437.15</td>\n",
       "      <td>23766.20</td>\n",
       "      <td>23766.20</td>\n",
       "      <td>1171</td>\n",
       "      <td>7088.68</td>\n",
       "      <td>14400</td>\n",
       "      <td>8400</td>\n",
       "      <td>31-AUG-2020</td>\n",
       "      <td>NaN</td>\n",
       "    </tr>\n",
       "    <tr>\n",
       "      <th>3</th>\n",
       "      <td>FUTIDX</td>\n",
       "      <td>NIFTY</td>\n",
       "      <td>24-Sep-2020</td>\n",
       "      <td>0.0</td>\n",
       "      <td>XX</td>\n",
       "      <td>11764.90</td>\n",
       "      <td>11794.45</td>\n",
       "      <td>11350.50</td>\n",
       "      <td>11401.95</td>\n",
       "      <td>11401.95</td>\n",
       "      <td>314090</td>\n",
       "      <td>2722114.47</td>\n",
       "      <td>11209650</td>\n",
       "      <td>-1007775</td>\n",
       "      <td>31-AUG-2020</td>\n",
       "      <td>NaN</td>\n",
       "    </tr>\n",
       "    <tr>\n",
       "      <th>4</th>\n",
       "      <td>FUTIDX</td>\n",
       "      <td>NIFTY</td>\n",
       "      <td>29-Oct-2020</td>\n",
       "      <td>0.0</td>\n",
       "      <td>XX</td>\n",
       "      <td>11765.60</td>\n",
       "      <td>11804.30</td>\n",
       "      <td>11368.00</td>\n",
       "      <td>11430.50</td>\n",
       "      <td>11430.50</td>\n",
       "      <td>8666</td>\n",
       "      <td>75149.14</td>\n",
       "      <td>536250</td>\n",
       "      <td>47925</td>\n",
       "      <td>31-AUG-2020</td>\n",
       "      <td>NaN</td>\n",
       "    </tr>\n",
       "  </tbody>\n",
       "</table>\n",
       "</div>"
      ],
      "text/plain": [
       "  INSTRUMENT     SYMBOL    EXPIRY_DT  STRIKE_PR OPTION_TYP      OPEN  \\\n",
       "0     FUTIDX  BANKNIFTY  24-Sep-2020        0.0         XX  24900.05   \n",
       "1     FUTIDX  BANKNIFTY  29-Oct-2020        0.0         XX  24937.55   \n",
       "2     FUTIDX  BANKNIFTY  26-Nov-2020        0.0         XX  24989.95   \n",
       "3     FUTIDX      NIFTY  24-Sep-2020        0.0         XX  11764.90   \n",
       "4     FUTIDX      NIFTY  29-Oct-2020        0.0         XX  11765.60   \n",
       "\n",
       "       HIGH       LOW     CLOSE  SETTLE_PR  CONTRACTS  VAL_INLAKH  OPEN_INT  \\\n",
       "0  25270.00  23371.00  23743.00   23743.00     504222  3051593.27   1432850   \n",
       "1  25315.90  23391.90  23770.10   23770.10      10630    64526.57     91375   \n",
       "2  25280.75  23437.15  23766.20   23766.20       1171     7088.68     14400   \n",
       "3  11794.45  11350.50  11401.95   11401.95     314090  2722114.47  11209650   \n",
       "4  11804.30  11368.00  11430.50   11430.50       8666    75149.14    536250   \n",
       "\n",
       "   CHG_IN_OI    TIMESTAMP  Unnamed: 15  \n",
       "0     -54500  31-AUG-2020          NaN  \n",
       "1      19325  31-AUG-2020          NaN  \n",
       "2       8400  31-AUG-2020          NaN  \n",
       "3   -1007775  31-AUG-2020          NaN  \n",
       "4      47925  31-AUG-2020          NaN  "
      ]
     },
     "execution_count": 2,
     "metadata": {},
     "output_type": "execute_result"
    }
   ],
   "source": [
    "option_df=pd.read_csv(\"/kaggle/input/nseindia-futures-options-daily/fobhav.csv\", nrows=1000000)\n",
    "option_df.reset_index()\n",
    "option_df.head()"
   ]
  },
  {
   "cell_type": "code",
   "execution_count": 3,
   "id": "2e6f79a1",
   "metadata": {
    "execution": {
     "iopub.execute_input": "2023-11-05T21:02:17.272168Z",
     "iopub.status.busy": "2023-11-05T21:02:17.271724Z",
     "iopub.status.idle": "2023-11-05T21:02:17.453393Z",
     "shell.execute_reply": "2023-11-05T21:02:17.451065Z"
    },
    "papermill": {
     "duration": 0.1915,
     "end_time": "2023-11-05T21:02:17.456174",
     "exception": false,
     "start_time": "2023-11-05T21:02:17.264674",
     "status": "completed"
    },
    "tags": []
   },
   "outputs": [
    {
     "name": "stdout",
     "output_type": "stream",
     "text": [
      "<class 'pandas.core.frame.DataFrame'>\n",
      "RangeIndex: 1000000 entries, 0 to 999999\n",
      "Data columns (total 16 columns):\n",
      " #   Column       Non-Null Count    Dtype  \n",
      "---  ------       --------------    -----  \n",
      " 0   INSTRUMENT   1000000 non-null  object \n",
      " 1   SYMBOL       1000000 non-null  object \n",
      " 2   EXPIRY_DT    1000000 non-null  object \n",
      " 3   STRIKE_PR    1000000 non-null  float64\n",
      " 4   OPTION_TYP   1000000 non-null  object \n",
      " 5   OPEN         1000000 non-null  float64\n",
      " 6   HIGH         1000000 non-null  float64\n",
      " 7   LOW          1000000 non-null  float64\n",
      " 8   CLOSE        1000000 non-null  float64\n",
      " 9   SETTLE_PR    1000000 non-null  float64\n",
      " 10  CONTRACTS    1000000 non-null  int64  \n",
      " 11  VAL_INLAKH   1000000 non-null  float64\n",
      " 12  OPEN_INT     1000000 non-null  int64  \n",
      " 13  CHG_IN_OI    1000000 non-null  int64  \n",
      " 14  TIMESTAMP    1000000 non-null  object \n",
      " 15  Unnamed: 15  0 non-null        float64\n",
      "dtypes: float64(8), int64(3), object(5)\n",
      "memory usage: 122.1+ MB\n"
     ]
    }
   ],
   "source": [
    "option_df.info()"
   ]
  },
  {
   "cell_type": "code",
   "execution_count": 4,
   "id": "91ad80bc",
   "metadata": {
    "execution": {
     "iopub.execute_input": "2023-11-05T21:02:17.469069Z",
     "iopub.status.busy": "2023-11-05T21:02:17.468655Z",
     "iopub.status.idle": "2023-11-05T21:02:17.474515Z",
     "shell.execute_reply": "2023-11-05T21:02:17.473100Z"
    },
    "papermill": {
     "duration": 0.01537,
     "end_time": "2023-11-05T21:02:17.477272",
     "exception": false,
     "start_time": "2023-11-05T21:02:17.461902",
     "status": "completed"
    },
    "tags": []
   },
   "outputs": [],
   "source": [
    "avg=1\n",
    "std_dev=.1\n",
    "num_reps=1000000\n",
    "num_simulations=500"
   ]
  },
  {
   "cell_type": "code",
   "execution_count": 5,
   "id": "3ba990ef",
   "metadata": {
    "execution": {
     "iopub.execute_input": "2023-11-05T21:02:17.490464Z",
     "iopub.status.busy": "2023-11-05T21:02:17.490094Z",
     "iopub.status.idle": "2023-11-05T21:02:17.520344Z",
     "shell.execute_reply": "2023-11-05T21:02:17.518806Z"
    },
    "papermill": {
     "duration": 0.040039,
     "end_time": "2023-11-05T21:02:17.523068",
     "exception": false,
     "start_time": "2023-11-05T21:02:17.483029",
     "status": "completed"
    },
    "tags": []
   },
   "outputs": [],
   "source": [
    "pct_to_target=np.random.normal(avg,std_dev,num_reps).round(2)"
   ]
  },
  {
   "cell_type": "code",
   "execution_count": 6,
   "id": "a1c230d6",
   "metadata": {
    "execution": {
     "iopub.execute_input": "2023-11-05T21:02:17.535618Z",
     "iopub.status.busy": "2023-11-05T21:02:17.535265Z",
     "iopub.status.idle": "2023-11-05T21:02:17.543495Z",
     "shell.execute_reply": "2023-11-05T21:02:17.541992Z"
    },
    "papermill": {
     "duration": 0.017299,
     "end_time": "2023-11-05T21:02:17.545823",
     "exception": false,
     "start_time": "2023-11-05T21:02:17.528524",
     "status": "completed"
    },
    "tags": []
   },
   "outputs": [
    {
     "data": {
      "text/plain": [
       "array([1.09, 0.89, 0.87, ..., 0.87, 0.81, 0.97])"
      ]
     },
     "execution_count": 6,
     "metadata": {},
     "output_type": "execute_result"
    }
   ],
   "source": [
    "pct_to_target"
   ]
  },
  {
   "cell_type": "code",
   "execution_count": 7,
   "id": "3451ed11",
   "metadata": {
    "execution": {
     "iopub.execute_input": "2023-11-05T21:02:17.558541Z",
     "iopub.status.busy": "2023-11-05T21:02:17.558191Z",
     "iopub.status.idle": "2023-11-05T21:02:17.604537Z",
     "shell.execute_reply": "2023-11-05T21:02:17.603543Z"
    },
    "papermill": {
     "duration": 0.055523,
     "end_time": "2023-11-05T21:02:17.606894",
     "exception": false,
     "start_time": "2023-11-05T21:02:17.551371",
     "status": "completed"
    },
    "tags": []
   },
   "outputs": [],
   "source": [
    "buy_target_open=[15000,15500,16000,16500,17000,17500,18000,18500,19000,19500,20000,20500,21000,21500,22000,22500,23000,23500,24000,24500,25000]\n",
    "buy_target_prob=[0.01 ,0.03 ,0.09 ,0.03 ,0.03 ,0.01 ,0.05 ,0.09 ,0.02 ,0.04 ,0.09 ,0.06 ,0.07 ,0.05 ,0.08 ,0.09 ,0.02 ,0.04 ,0.04 ,0.04 ,0.02]\n",
    "buy_target = np.random.choice(buy_target_open,num_reps, p=buy_target_prob)"
   ]
  },
  {
   "cell_type": "code",
   "execution_count": 8,
   "id": "fe79ce7d",
   "metadata": {
    "execution": {
     "iopub.execute_input": "2023-11-05T21:02:17.618959Z",
     "iopub.status.busy": "2023-11-05T21:02:17.618589Z",
     "iopub.status.idle": "2023-11-05T21:02:17.629319Z",
     "shell.execute_reply": "2023-11-05T21:02:17.628268Z"
    },
    "papermill": {
     "duration": 0.019012,
     "end_time": "2023-11-05T21:02:17.631330",
     "exception": false,
     "start_time": "2023-11-05T21:02:17.612318",
     "status": "completed"
    },
    "tags": []
   },
   "outputs": [],
   "source": [
    "df=pd.DataFrame(index=range(num_reps),data={'Pct_to_Target':pct_to_target,'Buy_Target':buy_target})\n",
    "df['Buy']=df['Pct_to_Target']*df['Buy_Target']"
   ]
  },
  {
   "cell_type": "code",
   "execution_count": 9,
   "id": "3b142e80",
   "metadata": {
    "execution": {
     "iopub.execute_input": "2023-11-05T21:02:17.643754Z",
     "iopub.status.busy": "2023-11-05T21:02:17.643422Z",
     "iopub.status.idle": "2023-11-05T21:02:17.659408Z",
     "shell.execute_reply": "2023-11-05T21:02:17.657969Z"
    },
    "papermill": {
     "duration": 0.025142,
     "end_time": "2023-11-05T21:02:17.662132",
     "exception": false,
     "start_time": "2023-11-05T21:02:17.636990",
     "status": "completed"
    },
    "tags": []
   },
   "outputs": [
    {
     "data": {
      "text/html": [
       "<div>\n",
       "<style scoped>\n",
       "    .dataframe tbody tr th:only-of-type {\n",
       "        vertical-align: middle;\n",
       "    }\n",
       "\n",
       "    .dataframe tbody tr th {\n",
       "        vertical-align: top;\n",
       "    }\n",
       "\n",
       "    .dataframe thead th {\n",
       "        text-align: right;\n",
       "    }\n",
       "</style>\n",
       "<table border=\"1\" class=\"dataframe\">\n",
       "  <thead>\n",
       "    <tr style=\"text-align: right;\">\n",
       "      <th></th>\n",
       "      <th>Pct_to_Target</th>\n",
       "      <th>Buy_Target</th>\n",
       "      <th>Buy</th>\n",
       "    </tr>\n",
       "  </thead>\n",
       "  <tbody>\n",
       "    <tr>\n",
       "      <th>0</th>\n",
       "      <td>1.09</td>\n",
       "      <td>22000</td>\n",
       "      <td>23980.0</td>\n",
       "    </tr>\n",
       "    <tr>\n",
       "      <th>1</th>\n",
       "      <td>0.89</td>\n",
       "      <td>15500</td>\n",
       "      <td>13795.0</td>\n",
       "    </tr>\n",
       "    <tr>\n",
       "      <th>2</th>\n",
       "      <td>0.87</td>\n",
       "      <td>15000</td>\n",
       "      <td>13050.0</td>\n",
       "    </tr>\n",
       "    <tr>\n",
       "      <th>3</th>\n",
       "      <td>1.09</td>\n",
       "      <td>20000</td>\n",
       "      <td>21800.0</td>\n",
       "    </tr>\n",
       "    <tr>\n",
       "      <th>4</th>\n",
       "      <td>0.92</td>\n",
       "      <td>24500</td>\n",
       "      <td>22540.0</td>\n",
       "    </tr>\n",
       "    <tr>\n",
       "      <th>...</th>\n",
       "      <td>...</td>\n",
       "      <td>...</td>\n",
       "      <td>...</td>\n",
       "    </tr>\n",
       "    <tr>\n",
       "      <th>999995</th>\n",
       "      <td>1.00</td>\n",
       "      <td>18000</td>\n",
       "      <td>18000.0</td>\n",
       "    </tr>\n",
       "    <tr>\n",
       "      <th>999996</th>\n",
       "      <td>0.87</td>\n",
       "      <td>21000</td>\n",
       "      <td>18270.0</td>\n",
       "    </tr>\n",
       "    <tr>\n",
       "      <th>999997</th>\n",
       "      <td>0.87</td>\n",
       "      <td>16000</td>\n",
       "      <td>13920.0</td>\n",
       "    </tr>\n",
       "    <tr>\n",
       "      <th>999998</th>\n",
       "      <td>0.81</td>\n",
       "      <td>22000</td>\n",
       "      <td>17820.0</td>\n",
       "    </tr>\n",
       "    <tr>\n",
       "      <th>999999</th>\n",
       "      <td>0.97</td>\n",
       "      <td>18000</td>\n",
       "      <td>17460.0</td>\n",
       "    </tr>\n",
       "  </tbody>\n",
       "</table>\n",
       "<p>1000000 rows × 3 columns</p>\n",
       "</div>"
      ],
      "text/plain": [
       "        Pct_to_Target  Buy_Target      Buy\n",
       "0                1.09       22000  23980.0\n",
       "1                0.89       15500  13795.0\n",
       "2                0.87       15000  13050.0\n",
       "3                1.09       20000  21800.0\n",
       "4                0.92       24500  22540.0\n",
       "...               ...         ...      ...\n",
       "999995           1.00       18000  18000.0\n",
       "999996           0.87       21000  18270.0\n",
       "999997           0.87       16000  13920.0\n",
       "999998           0.81       22000  17820.0\n",
       "999999           0.97       18000  17460.0\n",
       "\n",
       "[1000000 rows x 3 columns]"
      ]
     },
     "execution_count": 9,
     "metadata": {},
     "output_type": "execute_result"
    }
   ],
   "source": [
    "df"
   ]
  },
  {
   "cell_type": "code",
   "execution_count": 10,
   "id": "9d8c300a",
   "metadata": {
    "execution": {
     "iopub.execute_input": "2023-11-05T21:02:17.676091Z",
     "iopub.status.busy": "2023-11-05T21:02:17.675729Z",
     "iopub.status.idle": "2023-11-05T21:02:17.683061Z",
     "shell.execute_reply": "2023-11-05T21:02:17.681233Z"
    },
    "papermill": {
     "duration": 0.017657,
     "end_time": "2023-11-05T21:02:17.686018",
     "exception": false,
     "start_time": "2023-11-05T21:02:17.668361",
     "status": "completed"
    },
    "tags": []
   },
   "outputs": [],
   "source": [
    "def calc_buy(x):\n",
    "    if(x<0.9):\n",
    "        return 0.2\n",
    "    if(x<=0.99):\n",
    "        return 0.35\n",
    "    else:\n",
    "        return 0.45"
   ]
  },
  {
   "cell_type": "code",
   "execution_count": 11,
   "id": "87ab37fa",
   "metadata": {
    "execution": {
     "iopub.execute_input": "2023-11-05T21:02:17.699167Z",
     "iopub.status.busy": "2023-11-05T21:02:17.698769Z",
     "iopub.status.idle": "2023-11-05T21:02:17.953824Z",
     "shell.execute_reply": "2023-11-05T21:02:17.952671Z"
    },
    "papermill": {
     "duration": 0.264357,
     "end_time": "2023-11-05T21:02:17.956375",
     "exception": false,
     "start_time": "2023-11-05T21:02:17.692018",
     "status": "completed"
    },
    "tags": []
   },
   "outputs": [],
   "source": [
    "df['Should Buy']=df['Pct_to_Target'].apply(calc_buy)\n",
    "df['Profit']=df['Should Buy']*df['Buy']"
   ]
  },
  {
   "cell_type": "code",
   "execution_count": 12,
   "id": "9ef55f6a",
   "metadata": {
    "execution": {
     "iopub.execute_input": "2023-11-05T21:02:17.969826Z",
     "iopub.status.busy": "2023-11-05T21:02:17.969390Z",
     "iopub.status.idle": "2023-11-05T21:02:17.982360Z",
     "shell.execute_reply": "2023-11-05T21:02:17.981193Z"
    },
    "papermill": {
     "duration": 0.022494,
     "end_time": "2023-11-05T21:02:17.984889",
     "exception": false,
     "start_time": "2023-11-05T21:02:17.962395",
     "status": "completed"
    },
    "tags": []
   },
   "outputs": [
    {
     "data": {
      "text/html": [
       "<div>\n",
       "<style scoped>\n",
       "    .dataframe tbody tr th:only-of-type {\n",
       "        vertical-align: middle;\n",
       "    }\n",
       "\n",
       "    .dataframe tbody tr th {\n",
       "        vertical-align: top;\n",
       "    }\n",
       "\n",
       "    .dataframe thead th {\n",
       "        text-align: right;\n",
       "    }\n",
       "</style>\n",
       "<table border=\"1\" class=\"dataframe\">\n",
       "  <thead>\n",
       "    <tr style=\"text-align: right;\">\n",
       "      <th></th>\n",
       "      <th>Pct_to_Target</th>\n",
       "      <th>Buy_Target</th>\n",
       "      <th>Buy</th>\n",
       "      <th>Should Buy</th>\n",
       "      <th>Profit</th>\n",
       "    </tr>\n",
       "  </thead>\n",
       "  <tbody>\n",
       "    <tr>\n",
       "      <th>0</th>\n",
       "      <td>1.09</td>\n",
       "      <td>22000</td>\n",
       "      <td>23980.0</td>\n",
       "      <td>0.45</td>\n",
       "      <td>10791.0</td>\n",
       "    </tr>\n",
       "    <tr>\n",
       "      <th>1</th>\n",
       "      <td>0.89</td>\n",
       "      <td>15500</td>\n",
       "      <td>13795.0</td>\n",
       "      <td>0.20</td>\n",
       "      <td>2759.0</td>\n",
       "    </tr>\n",
       "    <tr>\n",
       "      <th>2</th>\n",
       "      <td>0.87</td>\n",
       "      <td>15000</td>\n",
       "      <td>13050.0</td>\n",
       "      <td>0.20</td>\n",
       "      <td>2610.0</td>\n",
       "    </tr>\n",
       "    <tr>\n",
       "      <th>3</th>\n",
       "      <td>1.09</td>\n",
       "      <td>20000</td>\n",
       "      <td>21800.0</td>\n",
       "      <td>0.45</td>\n",
       "      <td>9810.0</td>\n",
       "    </tr>\n",
       "    <tr>\n",
       "      <th>4</th>\n",
       "      <td>0.92</td>\n",
       "      <td>24500</td>\n",
       "      <td>22540.0</td>\n",
       "      <td>0.35</td>\n",
       "      <td>7889.0</td>\n",
       "    </tr>\n",
       "  </tbody>\n",
       "</table>\n",
       "</div>"
      ],
      "text/plain": [
       "   Pct_to_Target  Buy_Target      Buy  Should Buy   Profit\n",
       "0           1.09       22000  23980.0        0.45  10791.0\n",
       "1           0.89       15500  13795.0        0.20   2759.0\n",
       "2           0.87       15000  13050.0        0.20   2610.0\n",
       "3           1.09       20000  21800.0        0.45   9810.0\n",
       "4           0.92       24500  22540.0        0.35   7889.0"
      ]
     },
     "execution_count": 12,
     "metadata": {},
     "output_type": "execute_result"
    }
   ],
   "source": [
    "df.head()"
   ]
  },
  {
   "cell_type": "code",
   "execution_count": 13,
   "id": "bfc78dbd",
   "metadata": {
    "execution": {
     "iopub.execute_input": "2023-11-05T21:02:17.999722Z",
     "iopub.status.busy": "2023-11-05T21:02:17.999338Z",
     "iopub.status.idle": "2023-11-05T21:04:55.089919Z",
     "shell.execute_reply": "2023-11-05T21:04:55.088870Z"
    },
    "papermill": {
     "duration": 157.10734,
     "end_time": "2023-11-05T21:04:55.099314",
     "exception": false,
     "start_time": "2023-11-05T21:02:17.991974",
     "status": "completed"
    },
    "tags": []
   },
   "outputs": [
    {
     "data": {
      "text/html": [
       "<style type=\"text/css\">\n",
       "</style>\n",
       "<table id=\"T_30b44\">\n",
       "  <thead>\n",
       "    <tr>\n",
       "      <th class=\"blank level0\" >&nbsp;</th>\n",
       "      <th id=\"T_30b44_level0_col0\" class=\"col_heading level0 col0\" >Buy</th>\n",
       "      <th id=\"T_30b44_level0_col1\" class=\"col_heading level0 col1\" >Profit</th>\n",
       "      <th id=\"T_30b44_level0_col2\" class=\"col_heading level0 col2\" >Buy_Target</th>\n",
       "    </tr>\n",
       "  </thead>\n",
       "  <tbody>\n",
       "    <tr>\n",
       "      <th id=\"T_30b44_level0_row0\" class=\"row_heading level0 row0\" >count</th>\n",
       "      <td id=\"T_30b44_row0_col0\" class=\"data row0 col0\" >500.0</td>\n",
       "      <td id=\"T_30b44_row0_col1\" class=\"data row0 col1\" >500.0</td>\n",
       "      <td id=\"T_30b44_row0_col2\" class=\"data row0 col2\" >500.0</td>\n",
       "    </tr>\n",
       "    <tr>\n",
       "      <th id=\"T_30b44_level0_row1\" class=\"row_heading level0 row1\" >mean</th>\n",
       "      <td id=\"T_30b44_row1_col0\" class=\"data row1 col0\" >20,160,010,292.31</td>\n",
       "      <td id=\"T_30b44_row1_col1\" class=\"data row1 col1\" >7,810,008,851.786</td>\n",
       "      <td id=\"T_30b44_row1_col2\" class=\"data row1 col2\" >20,160,037,445.0</td>\n",
       "    </tr>\n",
       "    <tr>\n",
       "      <th id=\"T_30b44_level0_row2\" class=\"row_heading level0 row2\" >std</th>\n",
       "      <td id=\"T_30b44_row2_col0\" class=\"data row2 col0\" >3,362,810.272161369</td>\n",
       "      <td id=\"T_30b44_row2_col1\" class=\"data row2 col1\" >2,436,211.7536493544</td>\n",
       "      <td id=\"T_30b44_row2_col2\" class=\"data row2 col2\" >2,773,740.6247849064</td>\n",
       "    </tr>\n",
       "    <tr>\n",
       "      <th id=\"T_30b44_level0_row3\" class=\"row_heading level0 row3\" >min</th>\n",
       "      <td id=\"T_30b44_row3_col0\" class=\"data row3 col0\" >20,149,340,415.0</td>\n",
       "      <td id=\"T_30b44_row3_col1\" class=\"data row3 col1\" >7,803,676,684.0</td>\n",
       "      <td id=\"T_30b44_row3_col2\" class=\"data row3 col2\" >20,151,651,000.0</td>\n",
       "    </tr>\n",
       "    <tr>\n",
       "      <th id=\"T_30b44_level0_row4\" class=\"row_heading level0 row4\" >25%</th>\n",
       "      <td id=\"T_30b44_row4_col0\" class=\"data row4 col0\" >20,157,765,771.25</td>\n",
       "      <td id=\"T_30b44_row4_col1\" class=\"data row4 col1\" >7,808,452,277.5</td>\n",
       "      <td id=\"T_30b44_row4_col2\" class=\"data row4 col2\" >20,158,096,500.0</td>\n",
       "    </tr>\n",
       "    <tr>\n",
       "      <th id=\"T_30b44_level0_row5\" class=\"row_heading level0 row5\" >50%</th>\n",
       "      <td id=\"T_30b44_row5_col0\" class=\"data row5 col0\" >20,159,855,295.0</td>\n",
       "      <td id=\"T_30b44_row5_col1\" class=\"data row5 col1\" >7,809,957,673.5</td>\n",
       "      <td id=\"T_30b44_row5_col2\" class=\"data row5 col2\" >20,159,837,500.0</td>\n",
       "    </tr>\n",
       "    <tr>\n",
       "      <th id=\"T_30b44_level0_row6\" class=\"row_heading level0 row6\" >75%</th>\n",
       "      <td id=\"T_30b44_row6_col0\" class=\"data row6 col0\" >20,162,310,431.25</td>\n",
       "      <td id=\"T_30b44_row6_col1\" class=\"data row6 col1\" >7,811,541,616.5</td>\n",
       "      <td id=\"T_30b44_row6_col2\" class=\"data row6 col2\" >20,161,919,500.0</td>\n",
       "    </tr>\n",
       "    <tr>\n",
       "      <th id=\"T_30b44_level0_row7\" class=\"row_heading level0 row7\" >max</th>\n",
       "      <td id=\"T_30b44_row7_col0\" class=\"data row7 col0\" >20,169,669,325.0</td>\n",
       "      <td id=\"T_30b44_row7_col1\" class=\"data row7 col1\" >7,817,826,928.0</td>\n",
       "      <td id=\"T_30b44_row7_col2\" class=\"data row7 col2\" >20,168,757,000.0</td>\n",
       "    </tr>\n",
       "  </tbody>\n",
       "</table>\n"
      ],
      "text/plain": [
       "<pandas.io.formats.style.Styler at 0x7c1f1ca77f70>"
      ]
     },
     "execution_count": 13,
     "metadata": {},
     "output_type": "execute_result"
    }
   ],
   "source": [
    "all_buy=[]\n",
    "for i in range(num_simulations):\n",
    "    buy_target=np.random.choice(buy_target_open,num_reps,p=buy_target_prob)\n",
    "    pct_to_target=np.random.normal(avg,std_dev,num_reps).round(2)\n",
    "    df=pd.DataFrame(index=range(num_reps),data={'Pct_to_Target':pct_to_target,'Buy_Target':buy_target})\n",
    "    df['Buy']=df['Pct_to_Target']*df['Buy_Target']\n",
    "    df['Should Buy']=df['Pct_to_Target'].apply(calc_buy)\n",
    "    df['Profit']=df['Should Buy']*df['Buy']\n",
    "    all_buy.append([df['Buy'].sum().round(0),\n",
    "                      df['Profit'].sum().round(0),\n",
    "                      df['Buy_Target'].sum().round(0)])\n",
    "results_df=pd.DataFrame.from_records(all_buy,columns=['Buy','Profit','Buy_Target'])\n",
    "results_df.describe().style.format('{:,}')"
   ]
  },
  {
   "cell_type": "code",
   "execution_count": 14,
   "id": "7d18f1c2",
   "metadata": {
    "execution": {
     "iopub.execute_input": "2023-11-05T21:04:55.115037Z",
     "iopub.status.busy": "2023-11-05T21:04:55.113938Z",
     "iopub.status.idle": "2023-11-05T21:04:55.457114Z",
     "shell.execute_reply": "2023-11-05T21:04:55.455962Z"
    },
    "papermill": {
     "duration": 0.353637,
     "end_time": "2023-11-05T21:04:55.459562",
     "exception": false,
     "start_time": "2023-11-05T21:04:55.105925",
     "status": "completed"
    },
    "tags": []
   },
   "outputs": [
    {
     "data": {
      "text/html": [
       "<div>\n",
       "<style scoped>\n",
       "    .dataframe tbody tr th:only-of-type {\n",
       "        vertical-align: middle;\n",
       "    }\n",
       "\n",
       "    .dataframe tbody tr th {\n",
       "        vertical-align: top;\n",
       "    }\n",
       "\n",
       "    .dataframe thead th {\n",
       "        text-align: right;\n",
       "    }\n",
       "</style>\n",
       "<table border=\"1\" class=\"dataframe\">\n",
       "  <thead>\n",
       "    <tr style=\"text-align: right;\">\n",
       "      <th></th>\n",
       "      <th>Name</th>\n",
       "      <th>Profit</th>\n",
       "      <th>Buy_Target</th>\n",
       "      <th>per profit</th>\n",
       "    </tr>\n",
       "  </thead>\n",
       "  <tbody>\n",
       "    <tr>\n",
       "      <th>426365</th>\n",
       "      <td>ULTRACEMCO</td>\n",
       "      <td>16317.00</td>\n",
       "      <td>24500</td>\n",
       "      <td>0.6660</td>\n",
       "    </tr>\n",
       "    <tr>\n",
       "      <th>865316</th>\n",
       "      <td>DIVISLAB</td>\n",
       "      <td>15876.00</td>\n",
       "      <td>24000</td>\n",
       "      <td>0.6615</td>\n",
       "    </tr>\n",
       "    <tr>\n",
       "      <th>198838</th>\n",
       "      <td>LUPIN</td>\n",
       "      <td>13140.00</td>\n",
       "      <td>20000</td>\n",
       "      <td>0.6570</td>\n",
       "    </tr>\n",
       "    <tr>\n",
       "      <th>999693</th>\n",
       "      <td>TATACONSUM</td>\n",
       "      <td>12723.75</td>\n",
       "      <td>19500</td>\n",
       "      <td>0.6525</td>\n",
       "    </tr>\n",
       "    <tr>\n",
       "      <th>594230</th>\n",
       "      <td>ONGC</td>\n",
       "      <td>14256.00</td>\n",
       "      <td>22000</td>\n",
       "      <td>0.6480</td>\n",
       "    </tr>\n",
       "  </tbody>\n",
       "</table>\n",
       "</div>"
      ],
      "text/plain": [
       "              Name    Profit  Buy_Target  per profit\n",
       "426365  ULTRACEMCO  16317.00       24500      0.6660\n",
       "865316    DIVISLAB  15876.00       24000      0.6615\n",
       "198838       LUPIN  13140.00       20000      0.6570\n",
       "999693  TATACONSUM  12723.75       19500      0.6525\n",
       "594230        ONGC  14256.00       22000      0.6480"
      ]
     },
     "execution_count": 14,
     "metadata": {},
     "output_type": "execute_result"
    }
   ],
   "source": [
    "final_df=pd.DataFrame()\n",
    "final_df['Name']=option_df['SYMBOL']\n",
    "final_df['Profit']=df['Profit']\n",
    "final_df['Buy_Target']=df['Buy_Target']\n",
    "final_df['per profit']=df['Profit']/df['Buy_Target']\n",
    "final_df=final_df.sort_values(['per profit'],ascending=False)\n",
    "final_df.head()"
   ]
  },
  {
   "cell_type": "code",
   "execution_count": 15,
   "id": "3ca2bc9c",
   "metadata": {
    "execution": {
     "iopub.execute_input": "2023-11-05T21:04:55.474285Z",
     "iopub.status.busy": "2023-11-05T21:04:55.473931Z",
     "iopub.status.idle": "2023-11-05T21:04:55.490578Z",
     "shell.execute_reply": "2023-11-05T21:04:55.489484Z"
    },
    "papermill": {
     "duration": 0.027521,
     "end_time": "2023-11-05T21:04:55.493774",
     "exception": false,
     "start_time": "2023-11-05T21:04:55.466253",
     "status": "completed"
    },
    "tags": []
   },
   "outputs": [
    {
     "name": "stdout",
     "output_type": "stream",
     "text": [
      "<class 'pandas.core.frame.DataFrame'>\n",
      "RangeIndex: 1000000 entries, 0 to 999999\n",
      "Data columns (total 5 columns):\n",
      " #   Column         Non-Null Count    Dtype  \n",
      "---  ------         --------------    -----  \n",
      " 0   Pct_to_Target  1000000 non-null  float64\n",
      " 1   Buy_Target     1000000 non-null  int64  \n",
      " 2   Buy            1000000 non-null  float64\n",
      " 3   Should Buy     1000000 non-null  float64\n",
      " 4   Profit         1000000 non-null  float64\n",
      "dtypes: float64(4), int64(1)\n",
      "memory usage: 38.1 MB\n"
     ]
    }
   ],
   "source": [
    "df.info()"
   ]
  },
  {
   "cell_type": "code",
   "execution_count": 16,
   "id": "cabc876e",
   "metadata": {
    "execution": {
     "iopub.execute_input": "2023-11-05T21:04:55.508160Z",
     "iopub.status.busy": "2023-11-05T21:04:55.507760Z",
     "iopub.status.idle": "2023-11-05T21:06:17.820554Z",
     "shell.execute_reply": "2023-11-05T21:06:17.819633Z"
    },
    "papermill": {
     "duration": 82.32889,
     "end_time": "2023-11-05T21:06:17.829076",
     "exception": false,
     "start_time": "2023-11-05T21:04:55.500186",
     "status": "completed"
    },
    "tags": []
   },
   "outputs": [
    {
     "data": {
      "text/plain": [
       "<matplotlib.collections.LineCollection at 0x7c1f1ccc3190>"
      ]
     },
     "execution_count": 16,
     "metadata": {},
     "output_type": "execute_result"
    },
    {
     "data": {
      "image/png": "[encoded data removed]",
      "text/plain": [
       "<Figure size 640x480 with 1 Axes>"
      ]
     },
     "metadata": {},
     "output_type": "display_data"
    }
   ],
   "source": [
    "import matplotlib.pyplot as plt\n",
    "buy_target=np.array(final_df['Buy_Target'])\n",
    "pprofit=np.array(final_df['per profit'])\n",
    "profit=np.array(final_df['Profit'])\n",
    "plt.vlines(profit,ymax=buy_target,ymin=0)"
   ]
  },
  {
   "cell_type": "code",
   "execution_count": 17,
   "id": "7bacc699",
   "metadata": {
    "execution": {
     "iopub.execute_input": "2023-11-05T21:06:17.845005Z",
     "iopub.status.busy": "2023-11-05T21:06:17.844614Z",
     "iopub.status.idle": "2023-11-05T21:07:20.008136Z",
     "shell.execute_reply": "2023-11-05T21:07:20.006417Z"
    },
    "papermill": {
     "duration": 62.180853,
     "end_time": "2023-11-05T21:07:20.016719",
     "exception": false,
     "start_time": "2023-11-05T21:06:17.835866",
     "status": "completed"
    },
    "tags": []
   },
   "outputs": [
    {
     "data": {
      "text/plain": [
       "<matplotlib.collections.LineCollection at 0x7c1eb6b7f940>"
      ]
     },
     "execution_count": 17,
     "metadata": {},
     "output_type": "execute_result"
    },
    {
     "data": {
      "image/png": "[encoded data removed]",
      "text/plain": [
       "<Figure size 640x480 with 1 Axes>"
      ]
     },
     "metadata": {},
     "output_type": "display_data"
    }
   ],
   "source": [
    "plt.vlines(pprofit,ymax=profit,ymin=0)"
   ]
  },
  {
   "cell_type": "code",
   "execution_count": 18,
   "id": "97444b0e",
   "metadata": {
    "execution": {
     "iopub.execute_input": "2023-11-05T21:07:20.033902Z",
     "iopub.status.busy": "2023-11-05T21:07:20.033506Z",
     "iopub.status.idle": "2023-11-05T21:07:23.690601Z",
     "shell.execute_reply": "2023-11-05T21:07:23.689462Z"
    },
    "papermill": {
     "duration": 3.668189,
     "end_time": "2023-11-05T21:07:23.692639",
     "exception": false,
     "start_time": "2023-11-05T21:07:20.024450",
     "status": "completed"
    },
    "tags": []
   },
   "outputs": [
    {
     "data": {
      "text/plain": [
       "<matplotlib.collections.PathCollection at 0x7c1eb6afd3c0>"
      ]
     },
     "execution_count": 18,
     "metadata": {},
     "output_type": "execute_result"
    },
    {
     "data": {
      "image/png": "[encoded data removed]",
      "text/plain": [
       "<Figure size 640x480 with 1 Axes>"
      ]
     },
     "metadata": {},
     "output_type": "display_data"
    }
   ],
   "source": [
    "plt.scatter(profit,buy_target)"
   ]
  },
  {
   "cell_type": "code",
   "execution_count": 19,
   "id": "76254ed1",
   "metadata": {
    "execution": {
     "iopub.execute_input": "2023-11-05T21:07:23.709781Z",
     "iopub.status.busy": "2023-11-05T21:07:23.708879Z",
     "iopub.status.idle": "2023-11-05T21:07:27.393169Z",
     "shell.execute_reply": "2023-11-05T21:07:27.391014Z"
    },
    "papermill": {
     "duration": 3.695978,
     "end_time": "2023-11-05T21:07:27.395954",
     "exception": false,
     "start_time": "2023-11-05T21:07:23.699976",
     "status": "completed"
    },
    "tags": []
   },
   "outputs": [
    {
     "data": {
      "text/plain": [
       "<matplotlib.collections.PathCollection at 0x7c1eb6afeb00>"
      ]
     },
     "execution_count": 19,
     "metadata": {},
     "output_type": "execute_result"
    },
    {
     "data": {
      "image/png": "[encoded data removed]",
      "text/plain": [
       "<Figure size 640x480 with 1 Axes>"
      ]
     },
     "metadata": {},
     "output_type": "display_data"
    }
   ],
   "source": [
    "plt.scatter(profit,pprofit)"
   ]
  },
  {
   "cell_type": "code",
   "execution_count": 20,
   "id": "e3bcc205",
   "metadata": {
    "execution": {
     "iopub.execute_input": "2023-11-05T21:07:27.414865Z",
     "iopub.status.busy": "2023-11-05T21:07:27.414432Z",
     "iopub.status.idle": "2023-11-05T21:07:31.097759Z",
     "shell.execute_reply": "2023-11-05T21:07:31.096463Z"
    },
    "papermill": {
     "duration": 3.695795,
     "end_time": "2023-11-05T21:07:31.099848",
     "exception": false,
     "start_time": "2023-11-05T21:07:27.404053",
     "status": "completed"
    },
    "tags": []
   },
   "outputs": [
    {
     "data": {
      "text/plain": [
       "<matplotlib.collections.PathCollection at 0x7c1e48f3d180>"
      ]
     },
     "execution_count": 20,
     "metadata": {},
     "output_type": "execute_result"
    },
    {
     "data": {
      "image/png": "[encoded data removed]",
      "text/plain": [
       "<Figure size 640x480 with 1 Axes>"
      ]
     },
     "metadata": {},
     "output_type": "display_data"
    }
   ],
   "source": [
    "plt.scatter(pprofit,buy_target)"
   ]
  },
  {
   "cell_type": "code",
   "execution_count": 21,
   "id": "b853b273",
   "metadata": {
    "execution": {
     "iopub.execute_input": "2023-11-05T21:07:31.118172Z",
     "iopub.status.busy": "2023-11-05T21:07:31.117754Z",
     "iopub.status.idle": "2023-11-05T21:08:16.295444Z",
     "shell.execute_reply": "2023-11-05T21:08:16.293544Z"
    },
    "papermill": {
     "duration": 45.189726,
     "end_time": "2023-11-05T21:08:16.297980",
     "exception": false,
     "start_time": "2023-11-05T21:07:31.108254",
     "status": "completed"
    },
    "tags": []
   },
   "outputs": [
    {
     "data": {
      "text/plain": [
       "<matplotlib.collections.LineCollection at 0x7c1e48e2dae0>"
      ]
     },
     "execution_count": 21,
     "metadata": {},
     "output_type": "execute_result"
    },
    {
     "data": {
      "image/png": "[encoded data removed]",
      "text/plain": [
       "<Figure size 640x480 with 1 Axes>"
      ]
     },
     "metadata": {},
     "output_type": "display_data"
    }
   ],
   "source": [
    "plt.hlines(profit,0,buy_target)\n"
   ]
  },
  {
   "cell_type": "code",
   "execution_count": 22,
   "id": "d1753112",
   "metadata": {
    "execution": {
     "iopub.execute_input": "2023-11-05T21:08:16.318929Z",
     "iopub.status.busy": "2023-11-05T21:08:16.317576Z",
     "iopub.status.idle": "2023-11-05T21:08:56.435073Z",
     "shell.execute_reply": "2023-11-05T21:08:56.433918Z"
    },
    "papermill": {
     "duration": 40.138362,
     "end_time": "2023-11-05T21:08:56.445456",
     "exception": false,
     "start_time": "2023-11-05T21:08:16.307094",
     "status": "completed"
    },
    "tags": []
   },
   "outputs": [
    {
     "data": {
      "text/plain": [
       "<matplotlib.collections.LineCollection at 0x7c1ddd12b130>"
      ]
     },
     "execution_count": 22,
     "metadata": {},
     "output_type": "execute_result"
    },
    {
     "data": {
      "image/png": "[encoded data removed]",
      "text/plain": [
       "<Figure size 640x480 with 1 Axes>"
      ]
     },
     "metadata": {},
     "output_type": "display_data"
    }
   ],
   "source": [
    "plt.hlines(profit,0,pprofit)"
   ]
  },
  {
   "cell_type": "code",
   "execution_count": 23,
   "id": "36bbaed0",
   "metadata": {
    "execution": {
     "iopub.execute_input": "2023-11-05T21:08:56.467065Z",
     "iopub.status.busy": "2023-11-05T21:08:56.465775Z",
     "iopub.status.idle": "2023-11-05T21:09:40.360220Z",
     "shell.execute_reply": "2023-11-05T21:09:40.358697Z"
    },
    "papermill": {
     "duration": 43.907907,
     "end_time": "2023-11-05T21:09:40.363071",
     "exception": false,
     "start_time": "2023-11-05T21:08:56.455164",
     "status": "completed"
    },
    "tags": []
   },
   "outputs": [
    {
     "data": {
      "text/plain": [
       "<matplotlib.collections.LineCollection at 0x7c1d72fc3eb0>"
      ]
     },
     "execution_count": 23,
     "metadata": {},
     "output_type": "execute_result"
    },
    {
     "data": {
      "image/png": "[encoded data removed]",
      "text/plain": [
       "<Figure size 640x480 with 1 Axes>"
      ]
     },
     "metadata": {},
     "output_type": "display_data"
    }
   ],
   "source": [
    "plt.hlines(pprofit,0,buy_target)"
   ]
  }
 ],
 "metadata": {
  "kernelspec": {
   "display_name": "Python 3",
   "language": "python",
   "name": "python3"
  },
  "language_info": {
   "codemirror_mode": {
    "name": "ipython",
    "version": 3
   },
   "file_extension": ".py",
   "mimetype": "text/x-python",
   "name": "python",
   "nbconvert_exporter": "python",
   "pygments_lexer": "ipython3",
   "version": "3.10.12"
  },
  "papermill": {
   "default_parameters": {},
   "duration": 455.266337,
   "end_time": "2023-11-05T21:09:43.599068",
   "environment_variables": {},
   "exception": null,
   "input_path": "__notebook__.ipynb",
   "output_path": "__notebook__.ipynb",
   "parameters": {},
   "start_time": "2023-11-05T21:02:08.332731",
   "version": "2.4.0"
  }
 },
 "nbformat": 4,
 "nbformat_minor": 5
}
